{
 "cells": [
  {
   "cell_type": "code",
   "execution_count": null,
   "metadata": {},
   "outputs": [],
   "source": [
    "# 8-1 消息：编写一个名为 display_message()的函数，它打印一个句子，指出你在本章学的是什么。调用这个函数，确认显示的消息正确无误。\n",
    "def display_message():\n",
    "    print(\"function\")\n",
    "\n",
    "display_message()"
   ]
  },
  {
   "cell_type": "code",
   "execution_count": null,
   "metadata": {},
   "outputs": [],
   "source": [
    "# 8-2 喜欢的图书：编写一个名为 favorite_book()的函数，其中包含一个名为 title的形参。这个函数打印一条消息，如 One of my favorite books is Alice in Wonderland。调用这个函数，并将一本图书的名称作为实参传递给它。\n",
    "def favorite_book(title):\n",
    "    print(\"One of my favorite book is \" + title)\n",
    "\n",
    "favorite_book('Alice in Wonderland')"
   ]
  },
  {
   "cell_type": "code",
   "execution_count": null,
   "metadata": {},
   "outputs": [],
   "source": [
    "# 8-3 T 恤：编写一个名为 make_shirt()的函数，它接受一个尺码以及要印到 T 恤上的字样。这个函数应打印一个句子，概要地说明 T 恤的尺码和字样。使用位置实参调用这个函数来制作一件 T 恤；再使用关键字实参来调用这个函数。\n",
    "def make_shirt(size,message):\n",
    "    print(\"size: \" + size)\n",
    "    print(\"message: \" + message)\n",
    "\n",
    "#使用位置实参调用\n",
    "make_shirt('large','Hello World!')\n",
    "#使用关键字实参调用\n",
    "make_shirt(size = 'large',message = 'Hello World!')"
   ]
  },
  {
   "cell_type": "code",
   "execution_count": null,
   "metadata": {},
   "outputs": [],
   "source": [
    "# 8-4 大号 T 恤：修改函数 make_shirt()，使其在默认情况下制作一件印有字样“I love Python”的大号 T 恤。调用这个函数来制作如下 T 恤：一件印有默认字样的大号 T 恤、一件印有默认字样的中号 T 恤和一件印有其他字样的 T 恤（尺码无关紧要）。\n",
    "def make_shirt(size = 'large',font = 'I love Python'):\n",
    "    print(\"size: \" + size)\n",
    "    print(\"font: \" + font)\n",
    "\n",
    "make_shirt()\n",
    "make_shirt(size = 'middle')\n",
    "make_shirt(size = 'small',font = 'Hello World')"
   ]
  },
  {
   "cell_type": "code",
   "execution_count": null,
   "metadata": {},
   "outputs": [],
   "source": [
    "# 8-5 城市：编写一个名为 describe_city()的函数，它接受一座城市的名字以及该城市所属的国家。这个函数应打印一个简单的句子，如 Reykjavik is in Iceland。给用于存储国家的形参指定默认值。为三座不同的城市调用这个函数，且其中至少有一座城市不属于默认国家。\n",
    "def describe_city(city, country = 'China'):\n",
    "    print(city + \" is in \" + country)\n",
    "\n",
    "describe_city('Beijing')\n",
    "describe_city('Shanghai')\n",
    "describe_city('NewYork', 'USA')"
   ]
  },
  {
   "cell_type": "code",
   "execution_count": null,
   "metadata": {},
   "outputs": [],
   "source": [
    "# 8-6 城市名：编写一个名为 city_country()的函数，它接受城市的名称及其所属的国家。这个函数应返回一个格式类似于下面这样的字符串：\"Santiago, Chile\"至少使用三个城市国家对调用这个函数，并打印它返回的值。\n",
    "def city_country(city,country):\n",
    "    city_country = city.title() + \",\" + country.title()\n",
    "    return city_country\n",
    "\n",
    "city_country1 = city_country('beijing','china')\n",
    "print(city_country1)\n",
    "\n",
    "city_country2 = city_country('shanghai','china')\n",
    "print(city_country2)\n",
    "\n",
    "city_country3 = city_country('dalian','china')\n",
    "print(city_country3)"
   ]
  },
  {
   "cell_type": "code",
   "execution_count": null,
   "metadata": {},
   "outputs": [],
   "source": [
    "# 8-7 专辑：编写一个名为 make_album()的函数，它创建一个描述音乐专辑的字典。这个函数应接受歌手的名字和专辑名，并返回一个包含这两项信息的字典。使用这个函数创建三个表示不同专辑的字典，并打印每个返回的值，以核实字典正确地存储了专辑的信息。\n",
    "def make_album(artist,title,num = ''):\n",
    "    artist_album = {'artist' : artist,'album' : title}\n",
    "    if num:\n",
    "        artist_album['number'] = num\n",
    "    return artist_album\n",
    "\n",
    "album1 = make_album('GEM','paomo')\n",
    "print(album1)\n",
    "album2 = make_album('GEM','paomo','100w')\n",
    "print(album2)"
   ]
  },
  {
   "cell_type": "code",
   "execution_count": null,
   "metadata": {},
   "outputs": [],
   "source": [
    "# 8-8 用户的专辑：在为完成练习 8-7 编写的程序中，编写一个 while 循环，让用户输入一个专辑的歌手和名称。获取这些信息后，使用它们来调用函数 make_album()，并将创建的字典打印出来。在这个 while 循环中，务必要提供退出途径。\n",
    "def make_album(artist,title,num = ''):\n",
    "    artist_album = {'artist' : artist,'album' : title}\n",
    "    if num:\n",
    "        artist_album['number'] = num\n",
    "    return artist_album\n",
    "\n",
    "print(\"Enter 'quit' at any time to stop.\")\n",
    "while True:\n",
    "    title = input(\"What's your favorite album? \")\n",
    "    if title == 'quit':\n",
    "        break\n",
    "    artist = input(\"Who's the artist? \")\n",
    "    if artist == 'quit':\n",
    "        break\n",
    "    \n",
    "    album = make_album(artist,title)\n",
    "    print(album)"
   ]
  },
  {
   "cell_type": "code",
   "execution_count": null,
   "metadata": {},
   "outputs": [],
   "source": [
    "# 8-9 魔术师：创建一个包含魔术师名字的列表，并将其传递给一名为show_magicians()的函数，这个函数打印列表中每个魔术师的名字。\n",
    "def show_magicians(magicians):\n",
    "    for magician in magicians:\n",
    "        print(magician)\n",
    "        \n",
    "magicians = ['Mike', 'John', 'Bob']\n",
    "show_magicians(magicians)"
   ]
  },
  {
   "cell_type": "code",
   "execution_count": null,
   "metadata": {},
   "outputs": [],
   "source": [
    "# 8-10 了不起的魔术师：在你为完成练习 8-9 而编写的程序中，编写一个名为make_great()的函数，对魔术师列表进行修改，在每个魔术师的名字中都加入字样“the Great”。调用函show_magicians()，确认魔术师列表确实变了。\n",
    "def show_magicians(magicians):\n",
    "    for magician in magicians:\n",
    "        print(magician)\n",
    "\n",
    "def make_great(magicians):\n",
    "\n",
    "    great_magicians = []\n",
    "\n",
    "    while magicians:\n",
    "        magician = magicians.pop()\n",
    "        great_magician = magician + ' the Great'\n",
    "        great_magicians.append(great_magician)\n",
    "\n",
    "    for great_magician in great_magicians:\n",
    "        magicians.append(great_magician)\n",
    "\n",
    "magicians = ['Mike', 'John', 'Bob']\n",
    "make_great(magicians)\n",
    "show_magicians(magicians)"
   ]
  },
  {
   "cell_type": "code",
   "execution_count": null,
   "metadata": {},
   "outputs": [],
   "source": [
    "# 8-11 不变的魔术师：修改你为完成练习 8-10 而编写的程序，在调用函make_great()时，向它传递魔术师列表的副本。由于不想修改原始列表，请返回修改后的列表，并将其存储到另一个列表中。分别使用这两个列表来调用 show_magicians()，确认一个列表包含的是原来的魔术师名字，而另一个列表包含的是添加了字样“the Great”的魔术师名字。\n",
    "def show_magicians(magicians):\n",
    "    for magician in magicians:\n",
    "        print(magician)\n",
    "\n",
    "def make_great(magicians):\n",
    "\n",
    "    great_magicians = []\n",
    "\n",
    "    while magicians:\n",
    "        magician = magicians.pop()\n",
    "        great_magician = magician + ' the Great'\n",
    "        great_magicians.append(great_magician)\n",
    "\n",
    "    for great_magician in great_magicians:\n",
    "        magicians.append(great_magician)\n",
    "    \n",
    "    return magicians\n",
    "\n",
    "magicians = ['Mike', 'John', 'Bob']\n",
    "show_magicians(magicians)\n",
    "\n",
    "print(\"\\nGreat magicians:\")\n",
    "great_magicians = make_great(magicians[:])\n",
    "show_magicians(great_magicians)\n",
    "\n",
    "print(\"\\nOriginal magicians:\")\n",
    "show_magicians(magicians)\n"
   ]
  },
  {
   "cell_type": "code",
   "execution_count": null,
   "metadata": {},
   "outputs": [],
   "source": [
    "# 8-12 三明治：编写一个函数，它接受顾客要在三明治中添加的一系列食材。这个函数只有一个形参（它收集函数调用中提供的所有食材），并打印一条消息，对顾客点的三明治进行概述。调用这个函数三次，每次都提供不同数量的实参。\n",
    "def make_sandwish(*toppings):\n",
    "    print(\"\\nMaking a sandwish with the following topping:\")\n",
    "    for topping in toppings:\n",
    "        print(topping)\n",
    "\n",
    "make_sandwish('cheese')\n",
    "make_sandwish('beef','cheese')\n",
    "make_sandwish('beef','cheese','butter')"
   ]
  },
  {
   "cell_type": "code",
   "execution_count": null,
   "metadata": {},
   "outputs": [],
   "source": [
    "# 8-13 用户简介：复制前面的程序 user_profile.py，在其中调用 build_profile()来创建有关你的简介；调用这个函数时，指定你的名和姓，以及三个描述你的键值对。\n",
    "def build_profile(first,last,**user_info):\n",
    "    profile = {}\n",
    "    profile['first_name'] = first\n",
    "    profile['last_name'] = last\n",
    "    for key, value in user_info.items():\n",
    "        profile[key] = value\n",
    "    return profile\n",
    "\n",
    "user_profile =build_profile('Steven', 'Lee',\n",
    "                            country='China',\n",
    "                            location='Dalian',\n",
    "                            field='IT')\n",
    "print(user_profile)"
   ]
  },
  {
   "cell_type": "code",
   "execution_count": null,
   "metadata": {},
   "outputs": [],
   "source": [
    "# 8-14 汽车：编写一个函数，将一辆汽车的信息存储在一个字典中。这个函数总是接受制造商和型号，还接受任意数量的关键字实参。这样调用这个函数：提供必不可少的信息，以及两个名称—值对，如颜色和选装配件。这个函数必须能够像下面这样进行调用：car = make_car(‘subaru’, ‘outback’, color=‘blue’, tow_package=True)打印返回的字典，确认正确地处理了所有的信息。\n",
    "def make_car(maker,model, **car_info):\n",
    "    information = {}\n",
    "    information['car_maker'] = maker\n",
    "    information['car_model'] = model\n",
    "    for key, value in car_info.items():\n",
    "        information[key] = value\n",
    "    return information\n",
    "\n",
    "car = make_car('subaru', 'outback', color='blue' ,tow_package=True)\n",
    "print(car)"
   ]
  },
  {
   "cell_type": "code",
   "execution_count": null,
   "metadata": {},
   "outputs": [],
   "source": [
    "# 8-15：打印模型 将示例printing_models.py中的函数放在一个名为printing_functions.py的文件中。在printing_models.py的开头编写一条import语句，并修改该文件以使用导入的函数\n",
    "unprited_designs=['phone case','robot pendant','dodecahedron']\n",
    "completed_models=[]\n",
    "\n",
    "while unprited_designs:\n",
    "    current_design=unprited_designs.pop()\n",
    "    print(f\"Printing model:{current_design}\")\n",
    "    completed_models.append(current_design)\n",
    "\n",
    "print(\"\\nThe following models have been printed:\")\n",
    "for completed_model in completed_models:\n",
    "    print(completed_model)"
   ]
  },
  {
   "cell_type": "code",
   "execution_count": null,
   "metadata": {},
   "outputs": [],
   "source": [
    "#第二部分 Codewars Kata挑战\n",
    "\n",
    "#第一题 编码聚会1\n",
    "def count_developers(lst):\n",
    "  coders = [i for i in lst if i['continent']=='Europe' and i['language']=='JavaScript']\n",
    "  return len(coders)"
   ]
  },
  {
   "cell_type": "code",
   "execution_count": null,
   "metadata": {},
   "outputs": [],
   "source": [
    "# 第二题 使用函数进行计算\n",
    "def zero(f = None): return 0 if f is None else int(f(0))\n",
    "def one(f = None): return 1 if f is None else int(f(1))\n",
    "def two(f = None): return 2 if f is None else int(f(2))\n",
    "def three(f = None): return 3 if f is None else int(f(3))\n",
    "def four(f = None): return 4 if f is None else int(f(4))\n",
    "def five(f = None): return 5 if f is None else int(f(5))\n",
    "def six(f = None): return 6 if f is None else int(f(6))\n",
    "def seven(f = None): return 7 if f is None else int(f(7))\n",
    "def eight(f = None): return 8 if f is None else int(f(8))\n",
    "def nine(f = None): return 9 if f is None else int(f(9))\n",
    "\n",
    "def plus(y): return lambda x: x + y\n",
    "def minus(y): return lambda x: x - y\n",
    "def times(y): return lambda x: x * y\n",
    "def divided_by(y): return lambda x: x / y"
   ]
  },
  {
   "cell_type": "code",
   "execution_count": null,
   "metadata": {},
   "outputs": [],
   "source": [
    "# 第三题 缩短数值的过滤器(Number Shortening Filter)\n",
    "def shorten_number(suffixes, base):\n",
    "    \n",
    "    # 定义一个函数\n",
    "    def my_filter(data):\n",
    "        try:\n",
    "            # 将函数输入转换为整数\n",
    "            number = int(data)\n",
    "            \n",
    "        # 如果输入的数据不能转换为整数，直接转换为str返回\n",
    "        except (TypeError, ValueError):\n",
    "            return str(data)\n",
    "        \n",
    "        # 输入的number可以转换为整数\n",
    "        else:\n",
    "            # i用来跟踪suffixes列表的索引\n",
    "            i = 0\n",
    "            \n",
    "            # 每次循环将输入的数字除以base，索引i+1\n",
    "            # 如果除以base等于0或者索引等于len(suffixes)-1，结束循环\n",
    "            while number//base > 0 and i < len(suffixes)-1:\n",
    "                number //= base\n",
    "                i += 1\n",
    "            return str(number) + suffixes[i]     \n",
    "\n",
    "    # 返回值是一个函数\n",
    "    return my_filter\n",
    "\n",
    "filter1 = shorten_number(['','k','m'],1000)\n",
    "print(filter1('234324'))  # == '234k'\n",
    "print(filter1('98234324')) # == '98m'\n",
    "print(filter1([1,2,3])) # == '[1,2,3]'\n",
    "\n",
    "filter2 = shorten_number(['B','KB','MB','GB', 'TB'],1024)\n",
    "print(filter2('32')) # == '32B'\n",
    "print(filter2('2100'))  # == '2KB';\n",
    "print(filter2('2100000000000000000000'))  # == '2KB';\n",
    "print(filter2('pippi')) # == 'pippi'"
   ]
  },
  {
   "cell_type": "code",
   "execution_count": null,
   "metadata": {},
   "outputs": [],
   "source": [
    "# 第四题 编码聚会7\n",
    "def find_senior(lst): \n",
    "    \n",
    "    # 利用生成器作为max函数的参数，找到最大的年龄\n",
    "    mage = max(a['age'] for a in lst)\n",
    "    \n",
    "    # 利用列表推导返回结果\n",
    "    return [a for a in lst if a['age']==mage]\n",
    "    \n",
    "    pass"
   ]
  },
  {
   "cell_type": "code",
   "execution_count": null,
   "metadata": {},
   "outputs": [],
   "source": [
    "# 第五题 Currying versus partial application\n",
    "from inspect import signature\n",
    "from functools import partial\n",
    "\n",
    "def curry_partial(main_func, *args):\n",
    "    \n",
    "    if not(callable(main_func)):\n",
    "        return main_func\n",
    "    \n",
    "    p = len(signature(main_func).parameters)\n",
    "    func = partial(main_func)\n",
    "    \n",
    "    for a in args:\n",
    "        if len(func.args) == p: break\n",
    "        func = partial(func, a)\n",
    "    \n",
    "    if len(func.args) < p:\n",
    "        return partial(curry_partial, main_func, *func.args)\n",
    "\n",
    "    return func()"
   ]
  }
 ],
 "metadata": {
  "language_info": {
   "name": "python"
  }
 },
 "nbformat": 4,
 "nbformat_minor": 2
}
