{
 "cells": [
  {
   "cell_type": "code",
   "execution_count": null,
   "metadata": {},
   "outputs": [],
   "source": [
    "# 3.1姓名\n",
    "names = [\"张三\",\"李四\",\"王五\",\"赵六\"]\n",
    "print(names[0])\n",
    "print(names[1])\n",
    "print(names[2])"
   ]
  },
  {
   "cell_type": "code",
   "execution_count": null,
   "metadata": {},
   "outputs": [],
   "source": [
    "# 3.2问候语\n",
    "print(f\"{names[0]}您好，欢迎来我家做客！\")\n",
    "print(f\"{names[1]}您好，欢迎来我家做客！\")\n",
    "print(f\"{names[2]}您好，欢迎来我家做客！\")\n",
    "print(f\"{names[3]}您好，欢迎来我家做客！\")"
   ]
  },
  {
   "cell_type": "code",
   "execution_count": null,
   "metadata": {},
   "outputs": [],
   "source": [
    "# 3-4嘉宾名单\n",
    "names = [\"张三\",\"李四\",\"王五\"]\n",
    "print(f\"我想邀请{names[0]}、{names[1]}、{names[2]}三位同学来做客。\")\n",
    "print(f\"由于临时有事，{names[1]}同学无法赴约。\")"
   ]
  },
  {
   "cell_type": "code",
   "execution_count": null,
   "metadata": {},
   "outputs": [],
   "source": [
    "# 3-5修改嘉宾名单\n",
    "names[1] = '赵六'\n",
    "print(f\"{names[0]}您好，邀请您周六下午来我家做客。\")\n",
    "print(f\"{names[1]}您好，邀请您周六下午来我家做客。\")\n",
    "print(f\"{names[2]}您好，邀请您周六下午来我家做客。\")"
   ]
  },
  {
   "cell_type": "code",
   "execution_count": null,
   "metadata": {},
   "outputs": [],
   "source": [
    "# 3-6添加嘉宾\n",
    "print(f\"由于订到了更大餐厅，再邀请三位同学来做客。\")\n",
    "print(f\"添加前：{names}\")\n",
    "names.append('李红')          # 末尾添加李红：用append\n",
    "names.insert(2,'流星')        # 第三个添加流星：用insert\n",
    "names.insert(0,'繁星')        # 第一个添加繁星：用insert\n",
    "print(f\"添加后：{names}\")"
   ]
  },
  {
   "cell_type": "code",
   "execution_count": null,
   "metadata": {},
   "outputs": [],
   "source": [
    "# 3-7缩减名单\n",
    "print(f\"由于餐桌无法送达，只能邀请两位嘉宾，分别是：流星和繁星。\")\n",
    " \n",
    "print(names)\n",
    "popped_names1 = names.pop()                                                 \n",
    "print(f\"{popped_names1}您好，很抱歉，由于餐桌原因，无法再邀请您来做客。\")\n",
    " \n",
    "popped_names2 = names.pop()         \n",
    "print(f\"{popped_names2}您好，很抱歉，由于餐桌原因，无法再邀请您来做客。\")\n",
    " \n",
    "second_names = names.pop(1)                                      \n",
    "print(f\"{second_names}您好，很抱歉，由于餐桌原因，无法再邀请您来做客。\")\n",
    " \n",
    "third_names = names.pop(1)     \n",
    "print(f\"{third_names}您好，很抱歉，由于餐桌原因，无法再邀请您来做客。\")\n",
    " \n",
    "print(names)\n",
    "print(f\"{names[0]}您好，您依然在受邀名单，请准时来赴约。\")\n",
    "print(f\"{names[1]}您好，您依然在受邀名单，请准时来赴约。\")\n",
    " \n",
    "del names[0]                 \n",
    "names.remove('流星')          \n",
    "print(f\"确认名单是否为空：{names}\")"
   ]
  },
  {
   "cell_type": "code",
   "execution_count": null,
   "metadata": {},
   "outputs": [],
   "source": [
    "# 3.9 晚餐嘉宾\n",
    "names = [\"张三\",\"李四\",\"王五\"]\n",
    "length = len(names)\n",
    "print(f\"{names}列表的长度为{length}\")"
   ]
  },
  {
   "cell_type": "code",
   "execution_count": null,
   "metadata": {},
   "outputs": [],
   "source": [
    "# 4.1披萨\n",
    "citys = ['Shanghai','Beijing','Wuhu','Shenzhen','HongKong']\n",
    "for city in citys:\n",
    "    print(\"I like \" + city  + \".\\n\")\n",
    "print(\"I really love city.\")"
   ]
  },
  {
   "cell_type": "code",
   "execution_count": null,
   "metadata": {},
   "outputs": [],
   "source": [
    "# 4.2动物\n",
    "animals = ['cat', 'dog', 'panda', 'monkey']\n",
    "for animal in animals:\n",
    "    print(animal)\n",
    "    print(f\"A {animal} would make a great pet.\")\n",
    "print(\"\\nAny of these animals would make a great a great pet!\")"
   ]
  },
  {
   "cell_type": "code",
   "execution_count": null,
   "metadata": {},
   "outputs": [],
   "source": [
    "# 4-3 数到20\n",
    "for value in range(1,21):\n",
    "    print(value)"
   ]
  },
  {
   "cell_type": "code",
   "execution_count": null,
   "metadata": {},
   "outputs": [],
   "source": [
    "# 4-4 一百万\n",
    "one_millions =list(range(1,1000001))\n",
    "print(f\"打印1~1000000的列表：{one_millions}\")"
   ]
  },
  {
   "cell_type": "code",
   "execution_count": null,
   "metadata": {},
   "outputs": [],
   "source": [
    "# 4-5 计算1~1000000的总和\n",
    "print(min(one_millions))\n",
    "print(max(one_millions))\n",
    "print(sum(one_millions))"
   ]
  },
  {
   "cell_type": "code",
   "execution_count": null,
   "metadata": {},
   "outputs": [],
   "source": [
    "# 4-6 奇数：用range（）创建一个列表，包含1~20的奇数；再用for循环打印出来\n",
    "odd_numbers = list(range(1,20,2))\n",
    "print(f\"1~20之间的奇数：{odd_numbers}\")\n",
    " \n",
    "for value in odd_numbers:     # 再用for循环打印出来\n",
    "    print(value)"
   ]
  },
  {
   "cell_type": "code",
   "execution_count": null,
   "metadata": {},
   "outputs": [],
   "source": [
    "# 4-7 3的倍数：创建一个列表，包含3~30内能被3整除的数字；再用for循环打印出来\n",
    "three_numbers = list(range(3,31,3))\n",
    "print(f\"3~30之间的奇数：{three_numbers}\")\n",
    "for value in three_numbers:\n",
    "    print(value)"
   ]
  },
  {
   "cell_type": "code",
   "execution_count": null,
   "metadata": {},
   "outputs": [],
   "source": [
    "# 4-8 立方：打印1~10的立方\n",
    "cubes =[]\n",
    "for value in range(1,11):\n",
    "    cube = value*value*value\n",
    "    cubes.append(cube)\n",
    "print(cubes)\n",
    " \n",
    "for num in cubes:       \n",
    "    print(num)"
   ]
  },
  {
   "cell_type": "code",
   "execution_count": null,
   "metadata": {},
   "outputs": [],
   "source": [
    "# 或者：不使用中间变量cube\n",
    "cubes = []\n",
    "for value in range(1,11):\n",
    "    cubes.append(value*value*value)\n",
    "print(cubes)"
   ]
  },
  {
   "cell_type": "code",
   "execution_count": null,
   "metadata": {},
   "outputs": [],
   "source": [
    "# 4-9 立方解析\n",
    "cubes = [value*value*value for value in range(1,11) ]\n",
    "print(f\"1~10的立方：{cubes}\")\n",
    "for value in cubes:\n",
    "    print(value)"
   ]
  },
  {
   "cell_type": "code",
   "execution_count": null,
   "metadata": {},
   "outputs": [],
   "source": [
    "# 4-10 切片\n",
    "my_list = [1,2,3,4,5,6,7,8,9]\n",
    "print(f\"前三个元素:{my_list[:3]}\")\n",
    "print(f\"中间三个元素：{my_list[3:6]}\")\n",
    "print(f\"末尾三个元素：{my_list[-3:]}\")"
   ]
  },
  {
   "cell_type": "code",
   "execution_count": null,
   "metadata": {},
   "outputs": [],
   "source": [
    "# 4-11 你的披萨和我的披萨\n",
    "my_magicians = ['alice','david','carolina']\n",
    "friend_magicians = my_magicians[:]    # 相当于副本\n",
    "my_magicians.append('bob')\n",
    "friend_magicians.append('liming')\n",
    "print(f\"My_magicians are {my_magicians}\")\n",
    "for my_magician in friend_magicians:\n",
    "    print(my_magician)\n",
    "print(\"\\n\")\n",
    "print(f\"Friend_magicians are {friend_magicians}\")\n",
    "for friend_magician in friend_magicians:\n",
    "    print(friend_magician)"
   ]
  },
  {
   "cell_type": "code",
   "execution_count": null,
   "metadata": {},
   "outputs": [],
   "source": [
    "# 4-12 使用多个循环\n",
    "my_foods = ['pizza', 'falafel', 'carrot cake']\n",
    "friend_foods = my_foods[:]\n",
    "for my_food in my_foods:\n",
    "    print(my_food)"
   ]
  },
  {
   "cell_type": "code",
   "execution_count": null,
   "metadata": {},
   "outputs": [],
   "source": [
    "# 4-13-自助餐\n",
    "foods = ('rich','peanut','dumpling','potato','cake')  # 创建一个食物元组\n",
    "for food in foods:\n",
    "    print(food)\n",
    "# foods[0] = ice cream   #尝试修改元组，但出现报错，说明元组不可修改\n",
    "foods = ('rich','beef','dumpling','bacon','noodle')   # 重新定义变量，这是可以的\n",
    "print(\"\\n\")\n",
    "for food in foods:\n",
    "    print(food)"
   ]
  },
  {
   "cell_type": "code",
   "execution_count": null,
   "metadata": {},
   "outputs": [],
   "source": [
    "# 5-1 条件测试\n",
    "car = 'subaru'\n",
    "print(car == 'subaru')\n",
    "print(car == 'audi')\n",
    "True\n",
    "False\n",
    "False\n",
    "False \n",
    "num = 8\n",
    "print(num > 10)\n",
    "print(num < 5)"
   ]
  },
  {
   "cell_type": "code",
   "execution_count": null,
   "metadata": {},
   "outputs": [],
   "source": [
    "# 5-2 更多的条件测试\n",
    "# 1.检查两个字符串相等和不等\n",
    "str1 = 'kan'\n",
    "str2 = 'can'\n",
    "print(str1 == str2)\n",
    "print(str1 != str2)"
   ]
  },
  {
   "cell_type": "code",
   "execution_count": null,
   "metadata": {},
   "outputs": [],
   "source": [
    "# 2.使用函数lower()的测试\n",
    "str1= \"aaaaa\"\n",
    "str2 = \"AAAAA\"\n",
    "print(str2.casefold())             \n",
    "print(str2.lower())                \n",
    "print(str1 == str2.casefold())\n",
    "print(str1 == str2.lower())"
   ]
  },
  {
   "cell_type": "code",
   "execution_count": null,
   "metadata": {},
   "outputs": [],
   "source": [
    "# 3.检查两个数字相等、不等、大于、小于、大于等于和小于等于\n",
    "num1 = 15\n",
    "num2 = 33\n",
    "print(num1 == num2)\n",
    "print(num1 != num2)\n",
    "print(num1 > num2)\n",
    "print(num1 < num2)\n",
    "print(num1 >= num2)\n",
    "print(num1 <= num2)"
   ]
  },
  {
   "cell_type": "code",
   "execution_count": null,
   "metadata": {},
   "outputs": [],
   "source": [
    "# 4.使用关键字and和or的测试\n",
    "num = 22\n",
    "if (num > 20) and (num < 30):\n",
    "    print(True)\n",
    "else:\n",
    "    print(False)\n",
    " \n",
    "num = 66\n",
    "if (num < 33) or (num > 55):\n",
    "    print(True)\n",
    "else:\n",
    "    print(False)"
   ]
  },
  {
   "cell_type": "code",
   "execution_count": null,
   "metadata": {},
   "outputs": [],
   "source": [
    "# 5.测试特定的值是否包含在列表中"
   ]
  },
  {
   "cell_type": "code",
   "execution_count": null,
   "metadata": {},
   "outputs": [],
   "source": [
    "list = [1, 2, 3, 4, 5, 6]\n",
    "if 1 in list:\n",
    "    print(True)\n",
    "else:\n",
    "    print(False)"
   ]
  },
  {
   "cell_type": "code",
   "execution_count": null,
   "metadata": {},
   "outputs": [],
   "source": [
    "# 6.测试特点的值是否未包含在列表中\n",
    "list = [1, 2, 3, 4, 5, 6]\n",
    "if 10 not in list:\n",
    "    print(True)\n",
    "else:\n",
    "    print(False)"
   ]
  },
  {
   "cell_type": "code",
   "execution_count": null,
   "metadata": {},
   "outputs": [],
   "source": [
    "# 5-3 外星人颜色\n",
    "print(\"----------版本1----------------\")\n",
    "alien_color = ['green', 'yellow', 'red']\n",
    "alien_color_dis = 'green'\n",
    "if alien_color_dis in alien_color:\n",
    "    print(\"获得5个点\\n\")\n",
    "print(\"----------版本2----------------\")\n",
    "alien_color = ['yellow', 'red']\n",
    "alien_color_dis = 'green'\n",
    "if alien_color_dis in alien_color:\n",
    "    print(\"获得5个点\")"
   ]
  },
  {
   "cell_type": "code",
   "execution_count": null,
   "metadata": {},
   "outputs": [],
   "source": [
    "# 5-4 外星人颜色2\n",
    "print(\"----------版本1----------------\")\n",
    "alien_color = ['green', 'yellow', 'red']\n",
    "alien_color_dis = 'green'\n",
    "if alien_color_dis in alien_color:\n",
    "    print(\"获得5个点\")\n",
    "else:\n",
    "    print(\"获得10个点\")\n",
    " \n",
    "print(\"\\n----------版本2----------------\")\n",
    "alien_color = ['yellow', 'red']\n",
    "alien_color_dis = 'green'\n",
    "if alien_color_dis in alien_color:\n",
    "    print(\"获得5个点\")\n",
    "else:\n",
    "    print(\"获得10个点\")"
   ]
  },
  {
   "cell_type": "code",
   "execution_count": null,
   "metadata": {},
   "outputs": [],
   "source": [
    "# 5-5 外星人颜色3\n",
    "print(\"----------版本1----------------\")\n",
    "alien_color = ['green', 'yellow', 'red']\n",
    "if 'green' in alien_color:\n",
    "    print(\"获得5个点\")\n",
    "elif 'yellow' in alien_color:\n",
    "    print(\"获得10个点\")\n",
    "elif 'red' in alien_color:\n",
    "    print(\"获得15个点\")\n",
    " \n",
    "print(\"\\n----------版本2----------------\")\n",
    "alien_color = ['yellow', 'red']\n",
    "if 'green' in alien_color:\n",
    "    print(\"获得5个点\")\n",
    "elif 'yellow' in alien_color:\n",
    "    print(\"获得10个点\")\n",
    "elif 'red' in alien_color:\n",
    "    print(\"获得15个点\")\n",
    " \n",
    "print(\"\\n----------版本3----------------\")\n",
    "alien_color = ['red']\n",
    "if 'green' in alien_color:\n",
    "    print(\"获得5个点\")\n",
    "elif 'yellow' in alien_color:\n",
    "    print(\"获得10个点\")\n",
    "elif 'red' in alien_color:\n",
    "    print(\"获得15个点\")"
   ]
  },
  {
   "cell_type": "code",
   "execution_count": null,
   "metadata": {},
   "outputs": [],
   "source": [
    "# 5-6 人生的不同阶段\n",
    "age = 10\n",
    " \n",
    "if age < 2:\n",
    "    print(\"他是个婴儿。\")\n",
    " \n",
    "elif 2 <= age < 4:\n",
    "    print(\"他正在蹒跚学步。\")\n",
    " \n",
    "elif 4 <= age < 13:\n",
    "    print(\"他是儿童。\")\n",
    " \n",
    "elif 13 <= age < 20:\n",
    "    print(\"他是青少年。\")\n",
    " \n",
    "elif 20 <= age < 65:\n",
    "    print(\"他是成年人。\")\n",
    " \n",
    "else :\n",
    "    print(\"他是老年人。\")"
   ]
  },
  {
   "cell_type": "code",
   "execution_count": null,
   "metadata": {},
   "outputs": [],
   "source": [
    "# 5-7 喜欢的水果\n",
    "favorite_fruits = ['apple', 'banana', 'orange']\n",
    "if 'apple' in favorite_fruits:\n",
    "    print(f\"You really like {favorite_fruits[0]}\")\n",
    "if 'banana' in favorite_fruits:\n",
    "    print(f\"You really like {favorite_fruits[1]}\")\n",
    "if 'orange' in favorite_fruits:\n",
    "    print(f\"You really like {favorite_fruits[2]}\")\n",
    "if 'pear' in favorite_fruits:\n",
    "    print(f\"You really like pear\")\n",
    "if 'cherry' in favorite_fruits:\n",
    "    print(f\"You really like cherry\")"
   ]
  },
  {
   "cell_type": "code",
   "execution_count": null,
   "metadata": {},
   "outputs": [],
   "source": [
    "# 5-8 以特殊方式跟管理员打招呼\n",
    "names = ['bob', 'admin', 'alice', 'jake', 'licy']\n",
    "for name in names:\n",
    "    if name == 'admin':\n",
    "        print(\"Hello admin, would you like to see a status report?\")\n",
    "    else:\n",
    "        print(\"Hello \" + name.title() + \", thank you for logging in again.\")"
   ]
  },
  {
   "cell_type": "code",
   "execution_count": null,
   "metadata": {},
   "outputs": [],
   "source": [
    "# 5-9 处理没有用户的情形\n",
    "names = ['bob', 'admin', 'alice', 'jake', 'licy']\n",
    "if names:   \n",
    "    for name in names:\n",
    "        if name == 'admin':\n",
    "            print(\"Hello admin, would you like to see a status report?\")\n",
    "        else:\n",
    "            print(\"Hello \" + name + \", thank you for logging in again.\")\n",
    "else:      \n",
    "    print(\"We need to find some users!\")\n",
    "print(names)\n",
    "names.remove('bob')\n",
    "names.remove('admin')\n",
    "names.remove('alice')\n",
    "names.remove('jake')\n",
    "names.remove('licy')    \n",
    "print(names)"
   ]
  },
  {
   "cell_type": "code",
   "execution_count": null,
   "metadata": {},
   "outputs": [],
   "source": [
    "# 5-10 检查用户名\n",
    "current_users = ['bob', 'admin', 'alice', 'jake', 'licy']\n",
    "new_users = ['anlen', 'Alice', 'admin', 'demo', 'nomi']\n",
    "for new_user in new_users:\n",
    "    if new_user.lower() in current_users:\n",
    "        print(f\"{new_user}该用户名已被使用，请换一个用户名。\")\n",
    "    else:\n",
    "        print(f\"{new_user}该用户名未被使用。\")"
   ]
  },
  {
   "cell_type": "code",
   "execution_count": null,
   "metadata": {},
   "outputs": [],
   "source": [
    "# 5-11 序数\n",
    "lists = list(range(1, 10))\n",
    "for list in lists:\n",
    "    if list == 1:\n",
    "        print('1st')\n",
    "    elif list == 2:\n",
    "        print('2nd')\n",
    "    elif list == 3:\n",
    "        print('3rd')\n",
    "    else:\n",
    "        print(f\"{list}th\")"
   ]
  },
  {
   "cell_type": "code",
   "execution_count": null,
   "metadata": {},
   "outputs": [],
   "source": [
    "# 第二部分 Codewars Kata挑战\n",
    "# 第一题:3和5的倍数（Multiples of 3 or 5）\n",
    "def solution(number):\n",
    "    \n",
    "    # 从0到number-1的整数\n",
    "    numbers = [i for i in range(number)]\n",
    "    \n",
    "    # 从0到number-1的整数中，3或者5的倍数\n",
    "    multi3or5 =  [i for i in range(number) if i%3==0 or i%5==0]\n",
    "    \n",
    "    # 返回结果\n",
    "    return sum(multi3or5)   "
   ]
  },
  {
   "cell_type": "code",
   "execution_count": null,
   "metadata": {},
   "outputs": [],
   "source": [
    "# 将上面的代码写成一句话，就是下面的结果：\n",
    "\n",
    "def solution(number):\n",
    "    return sum(i for i in range(number)\n",
    "               if i%3 == 0 or i%5 == 0) "
   ]
  },
  {
   "cell_type": "code",
   "execution_count": null,
   "metadata": {},
   "outputs": [],
   "source": [
    "#利用等差数列直接计算3的倍数、5的倍数、15的倍数，结果 = 3的倍数+5的倍数-15的倍数\n",
    "def solution(number):\n",
    "    if number < 0:\n",
    "        return 0\n",
    "    a,b,c = (number-1)//3, (number-1)//5, (number-1)//15\n",
    "    x,y,z = (3+3*a)*a/2, (5+5*b)*b/2, (15+15*c)*c/2\n",
    "    return x+y-z"
   ]
  },
  {
   "cell_type": "code",
   "execution_count": null,
   "metadata": {},
   "outputs": [],
   "source": [
    "# 第二题:重复字符的编码器（Duplicate Encoder）\n",
    "def duplicate_encode(word):\n",
    "    # 用来保存括号的列表\n",
    "    result = []\n",
    "    \n",
    "    # 将所有字符全部变成小写\n",
    "    word = word.lower()\n",
    "    \n",
    "    # 遍历单词中所有的字符\n",
    "    for c in word:\n",
    "        # 如果该字符出现次数大于1次，在列表中添加`)`\n",
    "        if word.count(c) > 1:\n",
    "            result.append(')')\n",
    "        # 如果该字符出现次数大于1次，在列表中添加`(`\n",
    "        else:\n",
    "            result.append('(') \n",
    "    \n",
    "    # 将列表中的括号连接成字符串返回\n",
    "    return ''.join(result)"
   ]
  },
  {
   "cell_type": "code",
   "execution_count": null,
   "metadata": {},
   "outputs": [],
   "source": [
    "#将上面的代码使用列表解析简化\n",
    "def duplicate_encode(word):\n",
    "    word = word.lower()\n",
    "    return ''.join('(' if word.count(c)<2 else ')' for c in word)"
   ]
  },
  {
   "cell_type": "code",
   "execution_count": null,
   "metadata": {},
   "outputs": [],
   "source": [
    "#利用collections.Counter类\n",
    "from collections import Counter\n",
    "\n",
    "word = \"hello world, sun is shining today\"\n",
    "\n",
    "word = word.lower()\n",
    "counter = Counter(word)\n",
    "counter"
   ]
  },
  {
   "cell_type": "code",
   "execution_count": null,
   "metadata": {},
   "outputs": [],
   "source": [
    "# 第三题:括号匹配（Valid Braces）\n",
    "braces = \"(){}[]\" # 括号字符串\n",
    "dict_braces = {'}': '{', ']': '[', ')': '('}\n",
    "\n",
    "def validBraces(string):\n",
    "    stack = [] # 用来保存括号的栈\n",
    "    for c in string:\n",
    "        # 如果是左括号，就入栈\n",
    "        if c in '({[':\n",
    "            stack.append(c)\n",
    "        # 如果是右括号\n",
    "        elif c in ')}]':\n",
    "            # 如果栈为空，返回False\n",
    "            if not stack:\n",
    "                return False\n",
    "            # 如果栈顶元素和当前元素不匹配，返回False\n",
    "            if stack[-1] != dict_braces[c]:\n",
    "                return False\n",
    "            # 如果栈顶元素和当前元素匹配，就出栈\n",
    "            else:\n",
    "                stack.pop()\n",
    "    # 如果栈为空，返回True\n",
    "    if not stack:\n",
    "        return True\n",
    "    # 如果栈不为空，返回False\n",
    "    else:\n",
    "        return False"
   ]
  },
  {
   "cell_type": "code",
   "execution_count": null,
   "metadata": {},
   "outputs": [],
   "source": [
    "# 第四题:从随机三元组中恢复秘密字符串(Recover a secret string from random triplets)\n",
    "def recoverSecret(triplets):\n",
    "    # 创建字典用于存储字符的相对顺序\n",
    "    graph = {}\n",
    "\n",
    "    # 构建图，记录字符的相对顺序\n",
    "    for triplet in triplets:\n",
    "        for char in triplet:\n",
    "            if char not in graph:\n",
    "                graph[char] = set()\n",
    "    \n",
    "        graph[triplet[0]].add(triplet[1])\n",
    "        graph[triplet[1]].add(triplet[2])\n",
    "\n",
    "    # 使用深度优先搜索（DFS）拓扑排序获取字符的正确顺序\n",
    "    visited = set()\n",
    "    result = []\n",
    "\n",
    "    def dfs(node):\n",
    "        if node not in visited:\n",
    "            visited.add(node)\n",
    "            for neighbor in graph[node]:\n",
    "                dfs(neighbor)\n",
    "            result.append(node)\n",
    "\n",
    "    for node in graph:\n",
    "        dfs(node)\n",
    "\n",
    "    # 返回拓扑排序的逆序，即原始字符串\n",
    "    return ''.join(result[::-1])"
   ]
  },
  {
   "cell_type": "code",
   "execution_count": null,
   "metadata": {},
   "outputs": [],
   "source": [
    "# 第五题:去掉喷子的元音（Disemvowel Trolls）\n",
    "def disemvowel(string_):\n",
    "    vowels = 'aeiouAEIOU'\n",
    "    disemvoweled_string = ''.join([char for char in string_ if char not in vowels])\n",
    "    return disemvoweled_string"
   ]
  }
 ],
 "metadata": {
  "kernelspec": {
   "display_name": "Python 3",
   "language": "python",
   "name": "python3"
  },
  "language_info": {
   "name": "python",
   "version": "3.11.5"
  }
 },
 "nbformat": 4,
 "nbformat_minor": 2
}
