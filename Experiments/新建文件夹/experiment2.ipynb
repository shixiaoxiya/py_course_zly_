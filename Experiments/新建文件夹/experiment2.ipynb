{
 "cells": [
  {
   "cell_type": "markdown",
   "metadata": {},
   "source": [
    "### Codewars Kata挑战\n",
    "第1题:求离整数n最近的平方数"
   ]
  },
  {
   "cell_type": "code",
   "execution_count": null,
   "metadata": {},
   "outputs": [],
   "source": [
    "import math\n",
    "def nearest_sq(n):\n",
    "    # 计算 n 的平方根\n",
    "    sqrt_n = math.isqrt(n)\n",
    "    \n",
    "    # 检查两个最接近的平方数：sqrt_n^2 和 (sqrt_n + 1)^2\n",
    "    lower = sqrt_n ** 2  # 比 n 小的最大平方数\n",
    "    upper = (sqrt_n + 1) ** 2  # 比 n 大的最小平方数\n",
    "    \n",
    "    # 返回最接近的平方数\n",
    "    if abs(n - lower) <= abs(n - upper):\n",
    "        return lower\n",
    "    else:\n",
    "        return upper"
   ]
  },
  {
   "cell_type": "markdown",
   "metadata": {},
   "source": [
    "第2题:弹跳的球"
   ]
  },
  {
   "cell_type": "code",
   "execution_count": null,
   "metadata": {},
   "outputs": [],
   "source": [
    "def bouncing_ball(h, bounce, window):\n",
    "    # 检查输入条件是否有效\n",
    "    if not (h > 0 and 0 < bounce < 1 and window < h):\n",
    "        return -1\n",
    "    \n",
    "    pas = 0  # 记录通过窗户的次数\n",
    "    \n",
    "    while h > window:\n",
    "        pas += 1  # 小球在下落时通过窗户\n",
    "        h *= bounce  # 小球弹起\n",
    "        \n",
    "        if h > window:\n",
    "            pas += 1  # 小球在弹起时通过窗户\n",
    "    return pas"
   ]
  },
  {
   "cell_type": "markdown",
   "metadata": {},
   "source": [
    "第3题:元音统计"
   ]
  },
  {
   "cell_type": "code",
   "execution_count": null,
   "metadata": {},
   "outputs": [],
   "source": [
    "def get_count(sentence): \n",
    "    # 定义元音字母集合\n",
    "    vowels = {'a', 'e', 'i', 'o', 'u'}\n",
    "\n",
    "    # 初始化计数器\n",
    "    count = 0\n",
    "\n",
    "    # 遍历字符串中的每个字符\n",
    "    for char in sentence:\n",
    "        # 如果字符是元音字母，计数器加1\n",
    "        if char in vowels:\n",
    "            count += 1\n",
    "\n",
    "    return count"
   ]
  },
  {
   "cell_type": "markdown",
   "metadata": {},
   "source": [
    "第4题:偶数或者奇数"
   ]
  },
  {
   "cell_type": "code",
   "execution_count": null,
   "metadata": {},
   "outputs": [],
   "source": [
    "def even_or_odd(number):\n",
    "    # 检查给定的数字是否为偶数\n",
    "    if number % 2 == 0:\n",
    "        return \"Even\"  # 如果是偶数，返回字符串 \"Even\"\n",
    "    else:\n",
    "        return \"Odd\"  # 如果是奇数，返回字符串 \"Odd\""
   ]
  },
  {
   "cell_type": "code",
   "execution_count": null,
   "metadata": {},
   "outputs": [],
   "source": [
    "#练习2.1：简单消息\n",
    "message='Hello Python!'\n",
    "print(message)\n"
   ]
  },
  {
   "cell_type": "code",
   "execution_count": null,
   "metadata": {},
   "outputs": [],
   "source": [
    "# 练习2.2：多条简单消息\n",
    "\n",
    "message='Hello Python!'\n",
    "print(message)\n",
    "message='I love Python!'\n",
    "print(message)"
   ]
  },
  {
   "cell_type": "code",
   "execution_count": null,
   "metadata": {},
   "outputs": [],
   "source": [
    "#练习2.3：个性化消息\n",
    "name=\"eric\"\n",
    "message=\"Hello \"+name.title()+\",would you like to learn to some Python today?\"\n",
    "print(message)"
   ]
  },
  {
   "cell_type": "code",
   "execution_count": null,
   "metadata": {},
   "outputs": [],
   "source": [
    "# 练习2.4：调整名字的大小写\n",
    "name=\"barBEcue\"\n",
    "print(name.title())\n",
    "print(name.upper())\n",
    "print(name.lower())"
   ]
  },
  {
   "cell_type": "code",
   "execution_count": null,
   "metadata": {},
   "outputs": [],
   "source": [
    "# 练习2.5+练习2.6\n",
    "first_name=\"albert\"\n",
    "last_name=\"einstein\"\n",
    "full_name = first_name.title() + \" \" + last_name.title()\n",
    "message = full_name + ' once said, \"A person who never made a mistake never tried anything new.\"'\n",
    "print(message)"
   ]
  },
  {
   "cell_type": "code",
   "execution_count": null,
   "metadata": {},
   "outputs": [],
   "source": [
    "# 练习2.7：删除人名中的空白\n",
    "print(\"    lily \")\n",
    "print(\"\\tlily\")  \n",
    "print(\"\\n    lily\")    \n",
    "print(\"name:\\nlily\\nalice\\nliming\")\n",
    "print(\"name:\\n\\tlily\\n\\talice\\n\\tliming\")\n",
    "name = \" alice \"\n",
    "print(name)\n",
    "print(name.lstrip())   \n",
    "print(name.rstrip())   \n",
    "print(name.strip())  "
   ]
  },
  {
   "cell_type": "code",
   "execution_count": null,
   "metadata": {},
   "outputs": [],
   "source": [
    "# 练习2.9：数字8\n",
    "print(19 + 88)\n",
    "print(88 - 22)\n",
    "print(22 * 4)\n",
    "print(16 / 2)"
   ]
  },
  {
   "cell_type": "code",
   "execution_count": null,
   "metadata": {},
   "outputs": [],
   "source": [
    "# 练习2.10：最喜欢的数\n",
    "favorite_num = 888\n",
    "message = \"My favorite number is \" + str(favorite_num)\n",
    "print(message)"
   ]
  }
 ],
 "metadata": {
  "kernelspec": {
   "display_name": "Python 3",
   "language": "python",
   "name": "python3"
  },
  "language_info": {
   "name": "python",
   "version": "3.11.5"
  }
 },
 "nbformat": 4,
 "nbformat_minor": 2
}
